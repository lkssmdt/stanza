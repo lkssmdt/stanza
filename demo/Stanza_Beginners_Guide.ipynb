{
 "cells": [
  {
   "cell_type": "markdown",
   "metadata": {
    "colab_type": "text",
    "id": "56LiYCkPM7V_"
   },
   "source": [
    "# Welcome to Stanza!\n",
    "\n",
    "![Latest Version](https://img.shields.io/pypi/v/stanza.svg?colorB=bc4545)\n",
    "![Python Versions](https://img.shields.io/pypi/pyversions/stanza.svg?colorB=bc4545)\n",
    "\n",
    "Stanza is a Python NLP toolkit that supports 60+ human languages. It is built with highly accurate neural network components that enable efficient training and evaluation with your own annotated data, and offers pretrained models on 100 treebanks. Additionally, Stanza provides a stable, officially maintained Python interface to Java Stanford CoreNLP Toolkit.\n",
    "\n",
    "In this tutorial, we will demonstrate how to set up Stanza and annotate text with its native neural network NLP models. For the use of the Python CoreNLP interface, please see other tutorials."
   ]
  },
  {
   "cell_type": "markdown",
   "metadata": {
    "colab_type": "text",
    "id": "yQff4Di5Nnq0"
   },
   "source": [
    "## 1. Installing Stanza\n",
    "\n",
    "Note that Stanza only supports Python 3.6 and above. Installing and importing Stanza are as simple as running the following commands:"
   ]
  },
  {
   "cell_type": "code",
   "execution_count": 1,
   "metadata": {
    "colab": {},
    "colab_type": "code",
    "id": "owSj1UtdEvSU"
   },
   "outputs": [
    {
     "name": "stdout",
     "output_type": "stream",
     "text": [
      "Requirement already satisfied: stanza in /Users/lukasschmidt/opt/anaconda3/lib/python3.9/site-packages (1.4.0)\n",
      "Requirement already satisfied: transformers in /Users/lukasschmidt/opt/anaconda3/lib/python3.9/site-packages (from stanza) (4.21.1)\n",
      "Requirement already satisfied: requests in /Users/lukasschmidt/opt/anaconda3/lib/python3.9/site-packages (from stanza) (2.26.0)\n",
      "Requirement already satisfied: protobuf in /Users/lukasschmidt/opt/anaconda3/lib/python3.9/site-packages (from stanza) (4.21.5)\n",
      "Requirement already satisfied: emoji in /Users/lukasschmidt/opt/anaconda3/lib/python3.9/site-packages (from stanza) (2.0.0)\n",
      "Requirement already satisfied: torch>=1.3.0 in /Users/lukasschmidt/opt/anaconda3/lib/python3.9/site-packages (from stanza) (1.12.1)\n",
      "Requirement already satisfied: six in /Users/lukasschmidt/opt/anaconda3/lib/python3.9/site-packages (from stanza) (1.16.0)\n",
      "Requirement already satisfied: tqdm in /Users/lukasschmidt/opt/anaconda3/lib/python3.9/site-packages (from stanza) (4.62.3)\n",
      "Requirement already satisfied: numpy in /Users/lukasschmidt/opt/anaconda3/lib/python3.9/site-packages (from stanza) (1.20.3)\n",
      "Requirement already satisfied: typing-extensions in /Users/lukasschmidt/opt/anaconda3/lib/python3.9/site-packages (from torch>=1.3.0->stanza) (3.10.0.2)\n",
      "Requirement already satisfied: urllib3<1.27,>=1.21.1 in /Users/lukasschmidt/opt/anaconda3/lib/python3.9/site-packages (from requests->stanza) (1.26.7)\n",
      "Requirement already satisfied: charset-normalizer~=2.0.0 in /Users/lukasschmidt/opt/anaconda3/lib/python3.9/site-packages (from requests->stanza) (2.0.4)\n",
      "Requirement already satisfied: idna<4,>=2.5 in /Users/lukasschmidt/opt/anaconda3/lib/python3.9/site-packages (from requests->stanza) (2.10)\n",
      "Requirement already satisfied: certifi>=2017.4.17 in /Users/lukasschmidt/opt/anaconda3/lib/python3.9/site-packages (from requests->stanza) (2021.10.8)\n",
      "Requirement already satisfied: filelock in /Users/lukasschmidt/opt/anaconda3/lib/python3.9/site-packages (from transformers->stanza) (3.3.1)\n",
      "Requirement already satisfied: regex!=2019.12.17 in /Users/lukasschmidt/opt/anaconda3/lib/python3.9/site-packages (from transformers->stanza) (2021.8.3)\n",
      "Requirement already satisfied: pyyaml>=5.1 in /Users/lukasschmidt/opt/anaconda3/lib/python3.9/site-packages (from transformers->stanza) (6.0)\n",
      "Requirement already satisfied: packaging>=20.0 in /Users/lukasschmidt/opt/anaconda3/lib/python3.9/site-packages (from transformers->stanza) (21.0)\n",
      "Requirement already satisfied: tokenizers!=0.11.3,<0.13,>=0.11.1 in /Users/lukasschmidt/opt/anaconda3/lib/python3.9/site-packages (from transformers->stanza) (0.12.1)\n",
      "Requirement already satisfied: huggingface-hub<1.0,>=0.1.0 in /Users/lukasschmidt/opt/anaconda3/lib/python3.9/site-packages (from transformers->stanza) (0.9.0)\n",
      "Requirement already satisfied: pyparsing>=2.0.2 in /Users/lukasschmidt/opt/anaconda3/lib/python3.9/site-packages (from packaging>=20.0->transformers->stanza) (3.0.4)\n"
     ]
    }
   ],
   "source": []
  },
  {
   "cell_type": "markdown",
   "metadata": {
    "colab_type": "text",
    "id": "4ixllwEKeCJg"
   },
   "source": [
    "### More Information\n",
    "\n",
    "For common troubleshooting, please visit our [troubleshooting page](https://stanfordnlp.github.io/stanfordnlp/installation_usage.html#troubleshooting)."
   ]
  },
  {
   "cell_type": "markdown",
   "metadata": {
    "colab_type": "text",
    "id": "aeyPs5ARO79d"
   },
   "source": [
    "## 2. Downloading Models\n",
    "\n",
    "You can download models with the `stanza.download` command. The language can be specified with either a full language name (e.g., \"english\"), or a short code (e.g., \"en\"). \n",
    "\n",
    "By default, models will be saved to your `~/stanza_resources` directory. If you want to specify your own path to save the model files, you can pass a `dir=your_path` argument.\n"
   ]
  },
  {
   "cell_type": "code",
   "execution_count": 3,
   "metadata": {
    "colab": {},
    "colab_type": "code",
    "id": "HDwRm-KXGcYo"
   },
   "outputs": [
    {
     "name": "stdout",
     "output_type": "stream",
     "text": [
      "Downloading German model...\n"
     ]
    }
   ],
   "source": []
  },
  {
   "cell_type": "markdown",
   "metadata": {
    "colab_type": "text",
    "id": "7HCfQ0SfdmsU"
   },
   "source": [
    "### More Information\n",
    "\n",
    "Pretrained models are provided for 60+ different languages. For all languages, available models and the corresponding short language codes, please check out the [models page](https://stanfordnlp.github.io/stanza/models.html).\n"
   ]
  },
  {
   "cell_type": "markdown",
   "metadata": {
    "colab_type": "text",
    "id": "b3-WZJrzWD2o"
   },
   "source": [
    "## 3. Processing Text\n"
   ]
  },
  {
   "cell_type": "markdown",
   "metadata": {
    "colab_type": "text",
    "id": "XrnKl2m3fq2f"
   },
   "source": [
    "### Constructing Pipeline\n",
    "\n",
    "To process a piece of text, you'll need to first construct a `Pipeline` with different `Processor` units. The pipeline is language-specific, so again you'll need to first specify the language (see examples).\n",
    "\n",
    "- By default, the pipeline will include all processors, including tokenization, multi-word token expansion, part-of-speech tagging, lemmatization, dependency parsing and named entity recognition (for supported languages). However, you can always specify what processors you want to include with the `processors` argument.\n",
    "\n",
    "- Stanza's pipeline is CUDA-aware, meaning that a CUDA-device will be used whenever it is available, otherwise CPUs will be used when a GPU is not found. You can force the pipeline to use CPU regardless by setting `use_gpu=False`.\n",
    "\n",
    "- Again, you can suppress all printed messages by setting `verbose=False`."
   ]
  },
  {
   "cell_type": "code",
   "execution_count": 4,
   "metadata": {
    "colab": {},
    "colab_type": "code",
    "id": "HbiTSBDPG53o"
   },
   "outputs": [
    {
     "name": "stdout",
     "output_type": "stream",
     "text": [
      "Building an German pipeline...\n"
     ]
    }
   ],
   "source": []
  },
  {
   "cell_type": "markdown",
   "metadata": {
    "colab_type": "text",
    "id": "Go123Bx8e1wt"
   },
   "source": [
    "### Annotating Text\n",
    "\n",
    "After a pipeline is successfully constructed, you can get annotations of a piece of text simply by passing the string into the pipeline object. The pipeline will return a `Document` object, which can be used to access detailed annotations from. For example:\n"
   ]
  },
  {
   "cell_type": "code",
   "execution_count": 5,
   "metadata": {
    "colab": {},
    "colab_type": "code",
    "id": "k_p0h1UTHDMm"
   },
   "outputs": [
    {
     "name": "stdout",
     "output_type": "stream",
     "text": [
      "<class 'stanza.models.common.doc.Document'>\n"
     ]
    }
   ],
   "source": []
  },
  {
   "cell_type": "markdown",
   "metadata": {
    "colab_type": "text",
    "id": "DavwCP9egzNZ"
   },
   "source": [
    "### More Information\n",
    "\n",
    "For more information on how to construct a pipeline and information on different processors, please visit our [pipeline page](https://stanfordnlp.github.io/stanfordnlp/pipeline.html)."
   ]
  },
  {
   "cell_type": "markdown",
   "metadata": {
    "colab_type": "text",
    "id": "O_PYLEGziQWR"
   },
   "source": [
    "## 4. Accessing Annotations\n",
    "\n",
    "Annotations can be accessed from the returned `Document` object. \n",
    "\n",
    "A `Document` contains a list of `Sentence`s, and a `Sentence` contains a list of `Token`s and `Word`s. For the most part `Token`s and `Word`s overlap, but some tokens can be divided into mutiple words, for instance the French token `aux` is divided into the words `à` and `les`, while in English a word and a token are equivalent. Note that dependency parses are derived over `Word`s.\n",
    "\n",
    "Additionally, a `Span` object is used to represent annotations that are part of a document, such as named entity mentions.\n",
    "\n",
    "\n",
    "The following example iterate over all English sentences and words, and print the word information one by one:"
   ]
  },
  {
   "cell_type": "code",
   "execution_count": 6,
   "metadata": {
    "colab": {},
    "colab_type": "code",
    "id": "B5691SpFHFZ6"
   },
   "outputs": [
    {
     "name": "stdout",
     "output_type": "stream",
     "text": [
      "[Sentence 1]\n",
      "Mein        \tmein        \tDET   \t5\tdet:poss    \n",
      "bisher      \tbisher      \tADV   \t4\tadvmod      \n",
      "sehr        \tsehr        \tADV   \t4\tadvmod      \n",
      "zufriedener \tzufrieden   \tADJ   \t5\tamod        \n",
      "Kunde       \tKunde       \tNOUN  \t27\tnsubj       \n",
      "Herr        \tHerr        \tNOUN  \t7\tcompound    \n",
      "Pingel      \tPingel      \tPROPN \t5\tappos       \n",
      "hat         \thaben       \tAUX   \t27\taux         \n",
      "in          \tin          \tADP   \t11\tcase        \n",
      "dem         \tder         \tDET   \t11\tdet         \n",
      "Rahmen      \tRahmen      \tNOUN  \t27\tobl         \n",
      "einer       \tein         \tDET   \t13\tdet         \n",
      "Versteigerung\tVersteigerung\tNOUN  \t11\tnmod        \n",
      "Die         \td           \tPRON  \t15\tnmod        \n",
      "Immobilie   \tImmobilie   \tNOUN  \t13\tappos       \n",
      "„           \t\"           \tPUNCT \t17\tpunct       \n",
      "Käthe       \tKäthe       \tPROPN \t15\tappos       \n",
      "-           \t-           \tPUNCT \t19\tpunct       \n",
      "Kollwitz    \tKollwitz    \tPROPN \t17\tflat        \n",
      "-           \t-           \tPUNCT \t21\tpunct       \n",
      "Platz       \tPlatz       \tPROPN \t17\tflat        \n",
      "16          \t16          \tPROPN \t17\tappos       \n",
      ",           \t,           \tPUNCT \t24\tpunct       \n",
      "25336       \t25336       \tNUM   \t17\tconj        \n",
      "Elmshorn    \tElmshorn    \tPROPN \t24\tappos       \n",
      "“           \t\"           \tPUNCT \t17\tpunct       \n",
      "erworben    \terwerben    \tVERB  \t0\troot        \n",
      ".           \t.           \tPUNCT \t27\tpunct       \n",
      "\n",
      "[Sentence 2]\n",
      "Die         \tder         \tDET   \t3\tdet         \n",
      "Abwickelnde \tAbwickelnde \tPROPN \t3\tamod        \n",
      "Bank        \tBank        \tPROPN \t7\tnsubj       \n",
      "war         \tsein        \tAUX   \t7\tcop         \n",
      "die         \tder         \tDET   \t7\tdet         \n",
      "Deutsche    \tdeutsch     \tPROPN \t7\tamod        \n",
      "Bank        \tBank        \tPROPN \t0\troot        \n",
      ",           \t,           \tPUNCT \t9\tpunct       \n",
      "Ansprechpartnerin\tAnsprechpartnerin\tNOUN  \t7\tappos       \n",
      "Frau        \tFrau        \tPROPN \t9\tappos       \n",
      "Wright      \tWright      \tPROPN \t10\tflat        \n",
      "in          \tin          \tADP   \t13\tcase        \n",
      "Berlin      \tBerlin      \tPROPN \t10\tnmod        \n",
      ".           \t.           \tPUNCT \t21\tpunct       \n",
      "In          \tin          \tADP   \t17\tcase        \n",
      "dem         \tder         \tDET   \t17\tdet         \n",
      "Vorwege     \tVorwege     \tNOUN  \t21\tobl         \n",
      "der         \tder         \tDET   \t19\tdet         \n",
      "Versteigerung\tVersteigerung\tNOUN  \t17\tnmod        \n",
      "wurde       \twerden      \tAUX   \t21\taux:pass    \n",
      "versucht    \tversuchen   \tVERB  \t7\tparataxis   \n",
      ",           \t,           \tPUNCT \t31\tpunct       \n",
      "die         \tder         \tDET   \t26\tdet         \n",
      "3           \t3           \tNUM   \t26\tnummod      \n",
      "bestehenden \tbestehend   \tADJ   \t26\tamod        \n",
      "Grundschulden\tGrundschuld \tNOUN  \t31\tobj         \n",
      "aus         \taus         \tADP   \t29\tcase        \n",
      "dem         \tder         \tDET   \t29\tdet         \n",
      "Grundbuch   \tGrundbuch   \tNOUN  \t26\tnmod        \n",
      "zu          \tzu          \tPART  \t31\tmark        \n",
      "löschen     \tlöschen     \tVERB  \t21\txcomp       \n",
      ".           \t.           \tPUNCT \t7\tpunct       \n",
      "\n",
      "[Sentence 3]\n",
      "Bei         \tbei         \tADP   \t3\tcase        \n",
      "2           \t2           \tNUM   \t3\tnummod      \n",
      "Fremdbanken \tFremdbanken \tNOUN  \t4\tobl         \n",
      "erfolgte    \terfolgen    \tVERB  \t0\troot        \n",
      "dies        \tdies        \tPRON  \t4\tnsubj       \n",
      ",           \t,           \tPUNCT \t8\tpunct       \n",
      "bei         \tbei         \tADP   \t8\tcase        \n",
      "uns         \twir         \tPRON  \t4\tobl         \n",
      "nicht       \tnicht       \tPART  \t4\tadvmod      \n",
      ".           \t.           \tPUNCT \t4\tpunct       \n",
      "\n",
      "[Sentence 4]\n",
      "Es          \tes          \tPRON  \t2\texpl        \n",
      "besteht     \tbestehen    \tVERB  \t0\troot        \n",
      "eine        \tein         \tDET   \t4\tdet         \n",
      "Grundschuld \tGrundschuld \tNOUN  \t2\tnsubj       \n",
      "über        \tüber        \tADP   \t7\tcase        \n",
      "20.000      \t20.000      \tNUM   \t7\tnummod      \n",
      "Euro        \tEuro        \tPROPN \t4\tnmod        \n",
      "jedoch      \tjedoch      \tADV   \t2\tadvmod      \n",
      "keine       \tkein        \tPRON  \t10\tnmod        \n",
      "Kreditverbindlichkeit\tKreditverbindlichkeit\tNOUN  \t2\tobj         \n",
      "mehr        \tmehr        \tADV   \t2\tadvmod      \n",
      ".           \t.           \tPUNCT \t2\tpunct       \n",
      "\n",
      "[Sentence 5]\n",
      "(           \t(           \tPUNCT \t7\tpunct       \n",
      "Die         \tder         \tDET   \t3\tdet         \n",
      "Kundenverbindung\tKundenverbindung\tNOUN  \t7\tnsubj       \n",
      "war         \tsein        \tAUX   \t7\tcop         \n",
      "600/        \t600/        \tNUM   \t6\tnmod        \n",
      "6702880     \t6702880     \tNUM   \t7\tnmod        \n",
      "Jutta       \tJutta       \tPROPN \t0\troot        \n",
      "Henze       \tHenze       \tPROPN \t7\tflat        \n",
      ")           \t)           \tPUNCT \t7\tpunct       \n",
      ".           \t.           \tPUNCT \t7\tpunct       \n",
      "\n",
      "[Sentence 6]\n",
      "Die         \tder         \tDET   \t6\tdet         \n",
      "mit         \tmit         \tADP   \t4\tcase        \n",
      "der         \tder         \tDET   \t4\tdet         \n",
      "Versteigerung\tVersteigerung\tNOUN  \t5\tnmod        \n",
      "betraute    \tbetrauen    \tADJ   \t6\tamod        \n",
      "Rechtspflegerin\tRechtspflegerin\tNOUN  \t9\tnsubj       \n",
      "Frau        \tFrau        \tNOUN  \t6\tappos       \n",
      "Kirschnik   \tKirschnik   \tPROPN \t7\tflat        \n",
      "bekam       \tbekommen    \tVERB  \t0\troot        \n",
      "keine       \tkein        \tPRON  \t14\tnmod        \n",
      "für         \tfür         \tADP   \t12\tcase        \n",
      "sie         \tsie         \tPRON  \t13\tnmod        \n",
      "verständliche\tverständlich\tADJ   \t14\tamod        \n",
      "Erklärung   \tErklärung   \tNOUN  \t9\tobj         \n",
      "von         \tvon         \tADP   \t17\tcase        \n",
      "Frau        \tFrau        \tNOUN  \t17\tcompound    \n",
      "Wright      \tWright      \tPROPN \t14\tnmod        \n",
      "dafür       \tdafür       \tPRON  \t9\tdep         \n",
      ",           \t,           \tPUNCT \t24\tpunct       \n",
      "dass        \tdass        \tSCONJ \t24\tmark        \n",
      "die         \tder         \tDET   \t22\tdet         \n",
      "GS          \tGS          \tPROPN \t24\tnsubj:pass  \n",
      "nicht       \tnicht       \tPART  \t24\tadvmod      \n",
      "gelöscht    \tlöschen     \tVERB  \t18\tacl         \n",
      "wurde       \twerden      \tAUX   \t24\taux:pass    \n",
      ".           \t.           \tPUNCT \t9\tpunct       \n",
      "\n",
      "[Sentence 7]\n",
      "Bei         \tbei         \tADP   \t3\tcase        \n",
      "der         \tder         \tDET   \t3\tdet         \n",
      "Versteigerung\tVersteigerung\tNOUN  \t7\tobl         \n",
      "konnte      \tkönnen      \tAUX   \t7\taux         \n",
      "Sie         \tSie|sie     \tPRON  \t7\tnsubj       \n",
      "nur         \tnur         \tADV   \t7\tadvmod      \n",
      "sagen       \tsagen       \tVERB  \t0\troot        \n",
      ",           \t,           \tPUNCT \t14\tpunct       \n",
      "das         \tdass        \tSCONJ \t14\tmark        \n",
      "es          \tes          \tPRON  \t14\tnsubj       \n",
      "keine       \tkein        \tPRON  \t12\tnmod        \n",
      "Verbindlichkeiten\tVerbindlichkeit\tNOUN  \t14\tobj         \n",
      "mehr        \tmehr        \tADV   \t14\tadvmod      \n",
      "gebe        \tgeben       \tVERB  \t7\tccomp       \n",
      "und         \tund         \tCCONJ \t20\tcc          \n",
      "somit       \tsomit       \tADV   \t20\tadvmod      \n",
      "auch        \tauch        \tADV   \t20\tadvmod      \n",
      "kein        \tkein        \tPRON  \t19\tnmod        \n",
      "Nachteil    \tNachteil    \tNOUN  \t20\tobj         \n",
      "entstünde   \tentstehen   \tVERB  \t14\tconj        \n",
      ".           \t.           \tPUNCT \t7\tpunct       \n",
      "\n",
      "[Sentence 8]\n",
      "Jetzt       \tjetzt       \tADV   \t2\tadvmod      \n",
      "bekam       \tbekommen    \tVERB  \t0\troot        \n",
      "mein        \tmein        \tDET   \t4\tdet:poss    \n",
      "Kunde       \tKunde       \tNOUN  \t2\tnsubj       \n",
      "den         \tder         \tDET   \t6\tdet         \n",
      "Grunderwerbsteuerbescheid\tGrunderwerbsteuerbescheid\tNOUN  \t2\tobj         \n",
      "bei         \tbei         \tADP   \t19\tmark        \n",
      "dem         \tder         \tDET   \t19\tobl         \n",
      "als         \tals         \tADP   \t10\tcase        \n",
      "Bemessungsgrundlage\tBemessungsgrundlage\tNOUN  \t19\tobl         \n",
      "neben       \tneben       \tADP   \t13\tcase        \n",
      "dem         \tder         \tDET   \t13\tdet         \n",
      "Kaufpreis   \tKaufpreis   \tNOUN  \t19\tobl         \n",
      "auch        \tauch        \tADV   \t19\tadvmod      \n",
      "die         \tder         \tDET   \t18\tdet         \n",
      "noch        \tnoch        \tADV   \t17\tadvmod      \n",
      "vorhandene  \tvorhanden   \tADJ   \t18\tamod        \n",
      "Grundschuld \tGrundschuld \tNOUN  \t19\tnsubj:pass  \n",
      "veranschlagt\tveranschlagen\tVERB  \t2\tadvcl       \n",
      "wurde       \twerden      \tAUX   \t19\taux:pass    \n",
      ".           \t.           \tPUNCT \t2\tpunct       \n",
      "\n",
      "[Sentence 9]\n",
      "Herrn       \tHerr        \tNOUN  \t2\tcompound    \n",
      "Pingel      \tPingel      \tPROPN \t3\tnsubj       \n",
      "entsteht    \tentstehen   \tVERB  \t0\troot        \n",
      "nach        \tnach        \tADP   \t6\tcase        \n",
      "seiner      \tsein        \tDET   \t6\tdet:poss    \n",
      "Aussage     \tAussage     \tNOUN  \t3\tobl         \n",
      "durch       \tdurch       \tADP   \t10\tcase        \n",
      "die         \tder         \tDET   \t10\tdet         \n",
      "erhöhte     \terhöht      \tADJ   \t10\tamod        \n",
      "Bemessungsgrundlage\tBemessungsgrundlage\tNOUN  \t3\tobl         \n",
      "ein         \tein         \tDET   \t12\tdet         \n",
      "Schaden     \tSchaden     \tNOUN  \t3\tobj         \n",
      "von         \tvon         \tADP   \t15\tcase        \n",
      "650         \t650         \tNUM   \t15\tnummod      \n",
      "Euro        \tEuro        \tPROPN \t12\tnmod        \n",
      ".           \t.           \tPUNCT \t3\tpunct       \n",
      "\n",
      "[Sentence 10]\n",
      "Er          \ter          \tPRON  \t2\tnsubj       \n",
      "legt        \tlegen       \tVERB  \t0\troot        \n",
      "Einspruch   \tEinspruch   \tNOUN  \t2\tobj         \n",
      "gegen       \tgegen       \tADP   \t6\tcase        \n",
      "den         \tder         \tDET   \t6\tdet         \n",
      "Bescheid    \tBescheid    \tNOUN  \t3\tnmod        \n",
      "ein         \tein         \tADV   \t2\tcompound:prt\n",
      ",           \t,           \tPUNCT \t12\tpunct       \n",
      "doch        \tdoch        \tCCONJ \t12\tcc          \n",
      "das         \tder         \tDET   \t11\tdet         \n",
      "Finanzamt   \tFinanzamt   \tNOUN  \t12\tnsubj       \n",
      "hat         \thaben       \tVERB  \t2\tconj        \n",
      "lt          \tlt          \tADJ   \t12\txcomp       \n",
      ".           \t.           \tPUNCT \t2\tpunct       \n",
      "\n",
      "[Sentence 11]\n",
      "seiner      \tsein        \tDET   \t2\tdet:poss    \n",
      "Aussage     \tAussage     \tNOUN  \t6\tiobj        \n",
      "ähnliche    \tähnlich     \tADJ   \t4\tamod        \n",
      "Fälle       \tFall        \tNOUN  \t6\tobj         \n",
      "meist       \tmeist       \tADV   \t6\tadvmod      \n",
      "abgewiesen  \tabweisen    \tVERB  \t0\troot        \n",
      ".           \t.           \tPUNCT \t6\tpunct       \n",
      "\n",
      "[Sentence 12]\n",
      "Herr        \tHerr        \tNOUN  \t2\tcompound    \n",
      "Pingel      \tPingel      \tPROPN \t6\tnsubj       \n",
      "ist         \tsein        \tAUX   \t6\tcop         \n",
      "„           \t\"           \tPUNCT \t6\tpunct       \n",
      "stink       \tstink       \tADJ   \t6\tadvmod      \n",
      "sauer       \tsauer       \tADJ   \t0\troot        \n",
      "“           \t\"           \tPUNCT \t6\tpunct       \n",
      "gemäß       \tgemäß       \tADP   \t10\tcase        \n",
      "seinen      \tsein        \tDET   \t10\tdet:poss    \n",
      "Worten      \tWort        \tNOUN  \t6\tnmod        \n",
      "über        \tüber        \tADP   \t13\tcase        \n",
      "Frau        \tFrau        \tNOUN  \t13\tcompound    \n",
      "Wright      \tWright      \tPROPN \t10\tnmod        \n",
      "und         \tund         \tCCONJ \t16\tcc          \n",
      "die         \tder         \tDET   \t16\tdet         \n",
      "Verfahrensweise\tVerfahrensweise\tNOUN  \t6\tconj        \n",
      ".           \t.           \tPUNCT \t6\tpunct       \n",
      "\n",
      "[Sentence 13]\n",
      "1.          \t1.          \tADV   \t5\tadvmod      \n",
      "die         \tder         \tDET   \t5\tdet         \n",
      "nicht       \tnicht       \tPART  \t4\tadvmod      \n",
      "erfolgte    \terfolgt     \tADJ   \t5\tamod        \n",
      "GS          \tGS          \tPROPN \t0\troot        \n",
      "-           \t-           \tPUNCT \t7\tpunct       \n",
      "Löschung    \tLöschung    \tNOUN  \t5\tflat        \n",
      ",           \t,           \tPUNCT \t15\tpunct       \n",
      "2           \t2           \tNUM   \t5\tappos       \n",
      ".           \t.           \tPUNCT \t9\tpunct       \n",
      "keine       \tkein        \tPRON  \t15\tnmod        \n",
      "für         \tfür         \tADP   \t13\tcase        \n",
      "ihn         \ter          \tPRON  \t14\tnmod        \n",
      "logische    \tlogisch     \tADJ   \t15\tamod        \n",
      "Erklärung   \tErklärung   \tNOUN  \t5\tappos       \n",
      ",           \t,           \tPUNCT \t19\tpunct       \n",
      "3.          \t3.          \tADV   \t19\tadvmod      \n",
      "die         \tder         \tDET   \t19\tdet         \n",
      "Nichterwähnung\tNichterwähnung\tNOUN  \t5\tappos       \n",
      ",           \t,           \tPUNCT \t28\tpunct       \n",
      "dass        \tdass        \tSCONJ \t28\tmark        \n",
      "ihn         \ter          \tPRON  \t28\tobj         \n",
      "die         \tder         \tDET   \t24\tdet         \n",
      "GS          \tGS          \tPROPN \t28\tnsubj       \n",
      "bei         \tbei         \tADP   \t27\tcase        \n",
      "der         \tder         \tDET   \t27\tdet         \n",
      "Grunderwerbssteuer\tGrunderwerbssteuer\tNOUN  \t28\tobl         \n",
      "belastet    \tbelasten    \tVERB  \t19\tacl         \n",
      ".           \t.           \tPUNCT \t5\tpunct       \n",
      "\n",
      "[Sentence 14]\n",
      "Er          \ter          \tPRON  \t2\tnsubj       \n",
      "fordert     \tfordern     \tVERB  \t0\troot        \n",
      "eine        \tein         \tDET   \t4\tdet         \n",
      "Erklärung   \tErklärung   \tNOUN  \t2\tobj         \n",
      ",           \t,           \tPUNCT \t7\tpunct       \n",
      "die         \tder         \tDET   \t7\tdet         \n",
      "Löschung    \tLöschung    \tNOUN  \t4\tconj        \n",
      "der         \tder         \tDET   \t9\tdet         \n",
      "GS          \tGS          \tPROPN \t7\tnmod        \n",
      "und         \tund         \tCCONJ \t16\tcc          \n",
      "wenn        \twenn        \tSCONJ \t16\tmark        \n",
      "das         \tder         \tDET   \t13\tdet         \n",
      "FA          \tFA          \tPROPN \t16\tnsubj       \n",
      "den         \tder         \tDET   \t15\tdet         \n",
      "Einspruch   \tEinspruch   \tNOUN  \t16\tobj         \n",
      "ablehnt     \tablehnen    \tVERB  \t2\tadvcl       \n",
      ",           \t,           \tPUNCT \t19\tpunct       \n",
      "die         \tder         \tDET   \t19\tdet         \n",
      "Erstattung  \tErstattung  \tNOUN  \t15\tappos       \n",
      "der         \tder         \tDET   \t22\tdet         \n",
      "erhöhten    \terhöht      \tADJ   \t22\tamod        \n",
      "Grunderwerbsteuer\tGrunderwerbsteuer\tNOUN  \t19\tnmod        \n",
      ".           \t.           \tPUNCT \t2\tpunct       \n",
      "\n",
      "[Sentence 15]\n",
      "Er          \ter          \tPRON  \t2\tnsubj       \n",
      "droht       \tdrohen      \tVERB  \t0\troot        \n",
      "mit         \tmit         \tADP   \t4\tcase        \n",
      "Abzug       \tAbzug       \tNOUN  \t2\tobl         \n",
      "seiner      \tsein        \tDET   \t6\tdet:poss    \n",
      "Kontoverbindung\tKontoverbindung\tNOUN  \t4\tnmod        \n",
      "zu          \tzu          \tADP   \t9\tcase        \n",
      "der         \tder         \tDET   \t9\tdet         \n",
      "Volksbank   \tVolksbank   \tNOUN  \t2\tobl         \n",
      "Elmshorn    \tElmshorn    \tPROPN \t9\tappos       \n",
      ".           \t.           \tPUNCT \t2\tpunct       \n",
      "\n"
     ]
    }
   ],
   "source": [
    "for i, sent in enumerate(en_doc.sentences):\n",
    "    print(\"[Sentence {}]\".format(i+1))\n",
    "    for word in sent.words:\n",
    "        print(\"{:12s}\\t{:12s}\\t{:6s}\\t{:d}\\t{:12s}\".format(\\\n",
    "              word.text, word.lemma, word.pos, word.head, word.deprel))\n",
    "    print(\"\")"
   ]
  },
  {
   "cell_type": "markdown",
   "metadata": {
    "colab_type": "text",
    "id": "-AUkCkNIrusq"
   },
   "source": [
    "The following example iterate over all extracted named entity mentions and print out their character spans and types."
   ]
  },
  {
   "cell_type": "code",
   "execution_count": 14,
   "metadata": {
    "colab": {},
    "colab_type": "code",
    "id": "5Uu0-WmvsnlK"
   },
   "outputs": [
    {
     "name": "stdout",
     "output_type": "stream",
     "text": [
      "Mention text\tType\tStart-End\n",
      "Pingel\tPER\t40-46\n",
      "Käthe-Kollwitz\tORG\t96-110\n",
      "Elmshorn\tLOC\t127-135\n",
      "Abwickelnde Bank\tORG\t151-167\n",
      "Deutsche Bank\tORG\t176-189\n",
      "Wright\tPER\t214-220\n",
      "Berlin\tLOC\t224-230\n",
      "Jutta Henze\tPER\t515-526\n",
      "Kirschnik\tPER\t585-594\n",
      "Wright\tPER\t648-654\n",
      "GS\tORG\t671-673\n",
      "Pingel\tPER\t989-995\n",
      "Pingel\tPER\t1211-1217\n",
      "Wright\tPER\t1266-1272\n",
      "GS\tORG\t1406-1408\n",
      "GS\tORG\t1490-1492\n",
      "FA\tORG\t1506-1508\n",
      "Volksbank Elmshorn\tORG\t1625-1643\n"
     ]
    }
   ],
   "source": [
    "print(\"Mention text\\tType\\tStart-End\")\n",
    "for ent in en_doc.ents:\n",
    "    print(\"{}\\t{}\\t{}-{}\".format(ent.text, ent.type, ent.start_char, ent.end_char))"
   ]
  },
  {
   "cell_type": "code",
   "execution_count": 19,
   "metadata": {},
   "outputs": [
    {
     "data": {
      "text/plain": [
       "'Mein bisher sehr zufriedener Kunde Herr **** hat im Rahmen einer Versteigerung Die Immobilie „Käthe-Kollwitz-Platz 16, 25336 ****“ erworben. Die Abwickelnde Bank war die Deutsche Bank, Ansprechpartnerin Frau **** in **** . Im Vorwege der Versteigerung wurde versucht , die 3 bestehenden Grundschulden aus dem Grundbuch zu löschen. Bei 2 Fremdbanken erfolgte dies, bei uns nicht. Es besteht eine Grundschuld über 20.000 Euro jedoch keine Kreditverbindlichkeit mehr. ( Die Kundenverbindung war 600/ 6702880 ****). Die mit der Versteigerung betraute Rechtspflegerin Frau **** bekam keine für sie verständliche Erklärung von Frau **** dafür, dass die GS nicht gelöscht wurde. Bei der Versteigerung konnte Sie nur sagen, das es keine Verbindlichkeiten mehr gebe und somit auch kein Nachteil entstünde. Jetzt bekam mein Kunde den Grunderwerbsteuerbescheid bei dem als Bemessungsgrundlage neben dem Kaufpreis auch die noch vorhandene Grundschuld veranschlagt wurde. Herrn **** entsteht nach seiner Aussage durch die erhöhte Bemessungsgrundlage ein Schaden von 650 Euro. Er legt Einspruch gegen den Bescheid ein, doch das Finanzamt hat lt. seiner Aussage ähnliche Fälle meist abgewiesen. Herr **** ist „stink sauer“ gemäß seinen Worten über Frau **** und die Verfahrensweise. 1. die nicht erfolgte GS-Löschung, 2. keine für ihn logische Erklärung, 3. die Nichterwähnung, dass ihn die GS bei der Grunderwerbssteuer belastet. Er fordert eine Erklärung, die Löschung der GS und wenn das FA den Einspruch ablehnt, die Erstattung der erhöhten Grunderwerbsteuer. Er droht mit Abzug seiner Kontoverbindung zur Volksbank ****.'"
      ]
     },
     "execution_count": 19,
     "metadata": {},
     "output_type": "execute_result"
    }
   ],
   "source": []
  },
  {
   "cell_type": "markdown",
   "metadata": {
    "colab_type": "text",
    "id": "Ql1SZlZOnMLo"
   },
   "source": [
    "And similarly for the Chinese text:"
   ]
  },
  {
   "cell_type": "markdown",
   "metadata": {
    "colab_type": "text",
    "id": "dUhWAs8pnnHT"
   },
   "source": [
    "Alternatively, you can directly print a `Word` object to view all its annotations as a Python dict:"
   ]
  },
  {
   "cell_type": "code",
   "execution_count": 8,
   "metadata": {
    "colab": {},
    "colab_type": "code",
    "id": "6_UafNb7HHIg"
   },
   "outputs": [
    {
     "name": "stdout",
     "output_type": "stream",
     "text": [
      "{\n",
      "  \"id\": 1,\n",
      "  \"text\": \"Mein\",\n",
      "  \"lemma\": \"mein\",\n",
      "  \"upos\": \"DET\",\n",
      "  \"xpos\": \"PPOSAT\",\n",
      "  \"feats\": \"Case=Nom|Gender=Masc|Number=Sing|Number[psor]=Sing|Person=1|Poss=Yes|PronType=Prs\",\n",
      "  \"head\": 5,\n",
      "  \"deprel\": \"det:poss\",\n",
      "  \"start_char\": 0,\n",
      "  \"end_char\": 4\n",
      "}\n"
     ]
    }
   ],
   "source": [
    "word = en_doc.sentences[0].words[0]\n",
    "print(word)"
   ]
  },
  {
   "cell_type": "markdown",
   "metadata": {
    "colab_type": "text",
    "id": "TAQlOsuRoq2V"
   },
   "source": [
    "### More Information\n",
    "\n",
    "For all information on different data objects, please visit our [data objects page](https://stanfordnlp.github.io/stanza/data_objects.html)."
   ]
  },
  {
   "cell_type": "markdown",
   "metadata": {
    "colab_type": "text",
    "id": "hiiWHxYPpmhd"
   },
   "source": [
    "## 5. Resources\n",
    "\n",
    "Apart from this interactive tutorial, we also provide tutorials on our website that cover a variety of use cases such as how to use different model \"packages\" for a language, how to use spaCy as a tokenizer, how to process pretokenized text without running the tokenizer, etc. For these tutorials please visit [our Tutorials page](https://stanfordnlp.github.io/stanza/tutorials.html).\n",
    "\n",
    "Other resources that you may find helpful include:\n",
    "\n",
    "- [Stanza Homepage](https://stanfordnlp.github.io/stanza/index.html)\n",
    "- [FAQs](https://stanfordnlp.github.io/stanza/faq.html)\n",
    "- [GitHub Repo](https://github.com/stanfordnlp/stanza)\n",
    "- [Reporting Issues](https://github.com/stanfordnlp/stanza/issues)\n",
    "- [Stanza System Description Paper](http://arxiv.org/abs/2003.07082)\n"
   ]
  }
 ],
 "metadata": {
  "colab": {
   "collapsed_sections": [],
   "name": "Stanza-Beginners-Guide.ipynb",
   "provenance": [],
   "toc_visible": true
  },
  "kernelspec": {
   "display_name": "Python 3 (ipykernel)",
   "language": "python",
   "name": "python3"
  },
  "language_info": {
   "codemirror_mode": {
    "name": "ipython",
    "version": 3
   },
   "file_extension": ".py",
   "mimetype": "text/x-python",
   "name": "python",
   "nbconvert_exporter": "python",
   "pygments_lexer": "ipython3",
   "version": "3.9.7"
  },
  "varInspector": {
   "cols": {
    "lenName": 16,
    "lenType": 16,
    "lenVar": 40
   },
   "kernels_config": {
    "python": {
     "delete_cmd_postfix": "",
     "delete_cmd_prefix": "del ",
     "library": "var_list.py",
     "varRefreshCmd": "print(var_dic_list())"
    },
    "r": {
     "delete_cmd_postfix": ") ",
     "delete_cmd_prefix": "rm(",
     "library": "var_list.r",
     "varRefreshCmd": "cat(var_dic_list()) "
    }
   },
   "types_to_exclude": [
    "module",
    "function",
    "builtin_function_or_method",
    "instance",
    "_Feature"
   ],
   "window_display": false
  }
 },
 "nbformat": 4,
 "nbformat_minor": 1
}
